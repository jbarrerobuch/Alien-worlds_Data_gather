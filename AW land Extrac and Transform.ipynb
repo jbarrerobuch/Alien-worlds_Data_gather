{
 "cells": [
  {
   "cell_type": "code",
   "execution_count": 1,
   "id": "4d0b7343-de37-414c-8b3d-5ff26bb321ab",
   "metadata": {},
   "outputs": [],
   "source": [
    "from daltonapi.api import Atom\n",
    "import pandas as pd\n",
    "import datetime\n",
    "#Instanciate dalton api\n",
    "atom = Atom()"
   ]
  },
  {
   "cell_type": "code",
   "execution_count": 2,
   "id": "686f99da-4365-49e7-9453-177b7a1dfee9",
   "metadata": {},
   "outputs": [],
   "source": [
    "collection = 'alien.worlds'\n",
    "schema = 'land.worlds'\n",
    "lands = []\n",
    "page = 1"
   ]
  },
  {
   "cell_type": "markdown",
   "id": "f8645767-054f-4728-8370-b0d12fd25b86",
   "metadata": {},
   "source": [
    "# Extracting all lands"
   ]
  },
  {
   "cell_type": "code",
   "execution_count": 3,
   "id": "5493d22b-8781-44e1-912a-8e176d61a300",
   "metadata": {},
   "outputs": [
    {
     "name": "stdout",
     "output_type": "stream",
     "text": [
      "appended 1000 lands from page 1 total lands appended 1000\n",
      "appended 1000 lands from page 2 total lands appended 2000\n",
      "appended 1000 lands from page 3 total lands appended 3000\n",
      "appended 343 lands from page 4 total lands appended 3343\n",
      "Cero assets found in page 5. End extraction\n"
     ]
    }
   ],
   "source": [
    "while True:\n",
    "    try:\n",
    "        assets = atom.get_assets(collection=collection, schema=schema,page=page,limit=1000)\n",
    "        if len(assets) == 0:\n",
    "            print(f'Cero assets found in page {page}. End extraction')\n",
    "            break\n",
    "        for asset in assets:\n",
    "            lands.append(asset)\n",
    "        print(f'appended {len(assets)} lands from page {page} total lands appended {len(lands)}')\n",
    "        page+=1\n",
    "    except:\n",
    "        print(f'page {page} not found')\n",
    "        break"
   ]
  },
  {
   "cell_type": "code",
   "execution_count": null,
   "id": "ccf5cd32-870b-4b36-82e5-726fe9a219f9",
   "metadata": {},
   "outputs": [],
   "source": [
    "len(lands)"
   ]
  },
  {
   "cell_type": "code",
   "execution_count": null,
   "id": "b0c98172-32dc-4cd3-924d-f02dcb01df07",
   "metadata": {},
   "outputs": [],
   "source": [
    "lands[0].__dict__.keys()"
   ]
  },
  {
   "cell_type": "markdown",
   "id": "a6bdb7fb-da62-4b71-92ac-0e2356f207e3",
   "metadata": {},
   "source": [
    "# Transform land objets into a dictionary"
   ]
  },
  {
   "cell_type": "code",
   "execution_count": null,
   "id": "811dc0be-56c5-4b1e-874c-8b5a1cb63436",
   "metadata": {
    "tags": []
   },
   "outputs": [],
   "source": [
    "land_list = []\n",
    "void = [\n",
    "    '_mutable_data',\n",
    "    '_immutable_data',\n",
    "    '_is_burnable',\n",
    "    '_burned_by_account',\n",
    "    '_burned_at_block',\n",
    "    '_burned_at_time'\n",
    "]\n",
    "dates= [\n",
    "    '_updated_at_time',\n",
    "    '_transferred_at_time',\n",
    "    '_minted_at_time',\n",
    "    ]\n",
    "\n",
    "for land in lands:\n",
    "    temp_dict = {}\n",
    "    for key,value in land.__dict__.items():\n",
    "        #print(f'reading {key}:{value} from:\\n{land}')\n",
    "        if key in void:\n",
    "            #print('....void....')\n",
    "            continue\n",
    "        elif key in dates:\n",
    "            temp_dict[key] = datetime.datetime.fromtimestamp(int(value)/1000.0)\n",
    "        elif not key == '_data':\n",
    "            #print('not data key..saving')\n",
    "            temp_dict[key] = value\n",
    "        else:\n",
    "            #print('is data key iterating...')\n",
    "            for dataKey,dataValue in land.__dict__['_data'].items():\n",
    "                #print(f'reading {dataKey}:{dataValue}')\n",
    "                temp_dict[dataKey] = dataValue\n",
    "    land_list.append(temp_dict)"
   ]
  },
  {
   "cell_type": "code",
   "execution_count": null,
   "id": "332d42ef-8b86-46b5-bb12-4f643d651166",
   "metadata": {},
   "outputs": [],
   "source": [
    "print(f'Total lands {len(land_list)}')"
   ]
  },
  {
   "cell_type": "code",
   "execution_count": null,
   "id": "2cbda32a-4f9e-484f-bb73-a3e0963400b3",
   "metadata": {},
   "outputs": [],
   "source": [
    "lands_dt = pd.DataFrame(land_list)"
   ]
  },
  {
   "cell_type": "code",
   "execution_count": null,
   "id": "545e540f-9e8a-4d29-a8c3-6362a49ea260",
   "metadata": {},
   "outputs": [],
   "source": [
    "lands_dt.head()"
   ]
  },
  {
   "cell_type": "code",
   "execution_count": null,
   "id": "99c3a3f1-45ee-4344-82f8-41f9c7cbfc9c",
   "metadata": {},
   "outputs": [],
   "source": [
    "lands_dt.info()"
   ]
  },
  {
   "cell_type": "code",
   "execution_count": null,
   "id": "df2e314e-091f-4e9a-a00f-e16650b1904d",
   "metadata": {},
   "outputs": [],
   "source": [
    "lands_dt['commission'] /= 10000\n",
    "lands_dt['commission']"
   ]
  },
  {
   "cell_type": "code",
   "execution_count": null,
   "id": "54eb4943-e0ca-49cd-8dfe-07adfb63151d",
   "metadata": {},
   "outputs": [],
   "source": [
    "lands_dt['ease'] /= 10\n",
    "lands_dt['ease']"
   ]
  },
  {
   "cell_type": "code",
   "execution_count": null,
   "id": "9d94c210-0fab-4add-a808-08f42aa0ef32",
   "metadata": {},
   "outputs": [],
   "source": [
    "lands_dt['luck'] /= 10\n",
    "lands_dt['luck']"
   ]
  },
  {
   "cell_type": "code",
   "execution_count": null,
   "id": "af58ac5f-843a-4ba5-bf8d-b2fea733e29a",
   "metadata": {},
   "outputs": [],
   "source": [
    "lands_dt['delay'] /= 10\n",
    "lands_dt['delay']"
   ]
  },
  {
   "cell_type": "code",
   "execution_count": null,
   "id": "8f688aab-5b48-49ba-9e20-f9ee2ad2edfa",
   "metadata": {},
   "outputs": [],
   "source": [
    "lands_dt.to_csv(path_or_buf='./AW_lands.csv')"
   ]
  },
  {
   "cell_type": "code",
   "execution_count": null,
   "id": "2fd6247c-a5fe-497c-abea-ef032c0d4404",
   "metadata": {},
   "outputs": [],
   "source": []
  }
 ],
 "metadata": {
  "kernelspec": {
   "display_name": "Python 3",
   "language": "python",
   "name": "python3"
  },
  "language_info": {
   "codemirror_mode": {
    "name": "ipython",
    "version": 3
   },
   "file_extension": ".py",
   "mimetype": "text/x-python",
   "name": "python",
   "nbconvert_exporter": "python",
   "pygments_lexer": "ipython3",
   "version": "3.9.5"
  }
 },
 "nbformat": 4,
 "nbformat_minor": 5
}
