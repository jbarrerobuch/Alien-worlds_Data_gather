{
 "cells": [
  {
   "cell_type": "code",
   "execution_count": 1,
   "id": "ab6aeb34-6559-497d-bb47-68b60c10eb5e",
   "metadata": {},
   "outputs": [],
   "source": [
    "import pandas as pd\n",
    "from datetime import datetime\n",
    "source = 'AW_tools.csv'\n",
    "output = 'AW_tools_ETL.csv'"
   ]
  },
  {
   "cell_type": "code",
   "execution_count": 2,
   "id": "2e3901c0-a90d-42d2-a936-f5d1ffa954ed",
   "metadata": {},
   "outputs": [
    {
     "data": {
      "text/plain": [
       "'_contract,_asset_id,_owner,_is_transferable,_is_burnable,_collection,_schema,_template,_template_mint,_backed_tokens,_burned_by_account,_burned_at_block,_burned_at_time,_updated_at_block,_updated_at_time,_transferred_at_block,_transferred_at_time,_minted_at_block,_minted_at_time,img,ease,luck,name,type,delay,shine,cardid,rarity,backimg,difficulty,_name,key,material_grade\\n'"
      ]
     },
     "execution_count": 2,
     "metadata": {},
     "output_type": "execute_result"
    }
   ],
   "source": [
    "with open(source) as file:\n",
    "    data = file.readline()\n",
    "data"
   ]
  },
  {
   "cell_type": "code",
   "execution_count": 3,
   "id": "d753e7fa-fbac-4472-8ffe-a3276ff5e2ab",
   "metadata": {},
   "outputs": [
    {
     "name": "stdout",
     "output_type": "stream",
     "text": [
      "['_contract', '_asset_id', '_owner', '_is_transferable', '_is_burnable', '_collection', '_schema', '_template', '_template_mint', '_backed_tokens', '_burned_by_account', '_burned_at_block', '_burned_at_time', '_updated_at_block', '_updated_at_time', '_transferred_at_block', '_transferred_at_time', '_minted_at_block', '_minted_at_time', 'img', 'ease', 'luck', 'name', 'type', 'delay', 'shine', 'cardid', 'rarity', 'backimg', 'difficulty', '_name', 'key', 'material_grade\\n']\n",
      "['_contract', '_asset_id', '_owner', '_is_transferable', '_is_burnable', '_collection', '_schema', '_template', '_template_mint', '_backed_tokens', '_burned_by_account', '_burned_at_block', '_burned_at_time', '_updated_at_block', '_updated_at_time', '_transferred_at_block', '_transferred_at_time', '_minted_at_block', '_minted_at_time', 'img', 'ease', 'luck', 'name', 'type', 'delay', 'shine', 'cardid', 'rarity', 'backimg', 'difficulty', '_name', 'key']\n"
     ]
    }
   ],
   "source": [
    "columns = data.split(',')\n",
    "print(columns)\n",
    "columns = columns[:-1]\n",
    "print(columns)"
   ]
  },
  {
   "cell_type": "code",
   "execution_count": 4,
   "id": "16834b82-2a4f-4480-a0ae-f19ef27d1297",
   "metadata": {},
   "outputs": [],
   "source": [
    "div10 = lambda x: (int(x)/1000)\n",
    "def dates(x):\n",
    "    return datetime.fromtimestamp(int(x)/1000)\n"
   ]
  },
  {
   "cell_type": "code",
   "execution_count": 5,
   "id": "2694ce96-bbe9-467d-a4a2-8def2d7f64e5",
   "metadata": {
    "tags": []
   },
   "outputs": [
    {
     "name": "stderr",
     "output_type": "stream",
     "text": [
      "C:\\Users\\soyel\\miniconda3\\envs\\wax\\lib\\site-packages\\numpy\\lib\\arraysetops.py:583: FutureWarning: elementwise comparison failed; returning scalar instead, but in the future will perform elementwise comparison\n",
      "  mask |= (ar1 == a)\n"
     ]
    }
   ],
   "source": [
    "#usesols = columns ### To drop material_grade column that breaks the csv to DF parser on item 3250002\n",
    "df = pd.read_csv(source, engine='python', na_values=['[]','{}',\" \",\"\",' ',''],\n",
    "                 usecols=['_contract', '_asset_id', '_owner', '_is_transferable', '_is_burnable',\n",
    "                          '_collection', '_schema', '_template', '_template_mint', '_backed_tokens',\n",
    "                          '_burned_by_account', '_burned_at_block', '_burned_at_time', '_updated_at_block',\n",
    "                          '_updated_at_time', '_transferred_at_block', '_transferred_at_time', '_minted_at_block',\n",
    "                          '_minted_at_time', 'ease', 'luck', 'name', 'type', 'delay', 'shine', 'cardid',\n",
    "                          'rarity', 'difficulty'\n",
    "                         ],\n",
    "                 converters={'ease': div10,\n",
    "                             'luck': div10,\n",
    "                             '_burned_at_time': dates,\n",
    "                             '_updated_at_time': dates,\n",
    "                             '_transferred_at_time': dates,\n",
    "                             '_minted_at_time': dates\n",
    "                            }\n",
    "                )"
   ]
  },
  {
   "cell_type": "code",
   "execution_count": 6,
   "id": "538cd0a0-3a29-4a96-b5b8-bb7f52e789bf",
   "metadata": {},
   "outputs": [
    {
     "name": "stdout",
     "output_type": "stream",
     "text": [
      "<class 'pandas.core.frame.DataFrame'>\n",
      "RangeIndex: 4054121 entries, 0 to 4054120\n",
      "Data columns (total 28 columns):\n",
      " #   Column                 Non-Null Count    Dtype         \n",
      "---  ------                 --------------    -----         \n",
      " 0   _contract              4054121 non-null  object        \n",
      " 1   _asset_id              4054121 non-null  int64         \n",
      " 2   _owner                 4017957 non-null  object        \n",
      " 3   _is_transferable       4054121 non-null  bool          \n",
      " 4   _is_burnable           4054121 non-null  bool          \n",
      " 5   _collection            4054121 non-null  object        \n",
      " 6   _schema                4054121 non-null  object        \n",
      " 7   _template              4054121 non-null  object        \n",
      " 8   _template_mint         4054121 non-null  int64         \n",
      " 9   _backed_tokens         11240 non-null    object        \n",
      " 10  _burned_by_account     36164 non-null    object        \n",
      " 11  _burned_at_block       36164 non-null    float64       \n",
      " 12  _burned_at_time        36164 non-null    datetime64[ns]\n",
      " 13  _updated_at_block      4054121 non-null  int64         \n",
      " 14  _updated_at_time       4054121 non-null  datetime64[ns]\n",
      " 15  _transferred_at_block  4054121 non-null  int64         \n",
      " 16  _transferred_at_time   4054121 non-null  datetime64[ns]\n",
      " 17  _minted_at_block       4054121 non-null  int64         \n",
      " 18  _minted_at_time        4054121 non-null  datetime64[ns]\n",
      " 19  ease                   4054121 non-null  float64       \n",
      " 20  luck                   4054121 non-null  float64       \n",
      " 21  name                   4054121 non-null  object        \n",
      " 22  type                   4054121 non-null  object        \n",
      " 23  delay                  4054121 non-null  int64         \n",
      " 24  shine                  4054121 non-null  object        \n",
      " 25  cardid                 4054121 non-null  int64         \n",
      " 26  rarity                 4054121 non-null  object        \n",
      " 27  difficulty             4054121 non-null  int64         \n",
      "dtypes: bool(2), datetime64[ns](4), float64(3), int64(8), object(11)\n",
      "memory usage: 811.9+ MB\n",
      "None\n"
     ]
    }
   ],
   "source": [
    "print(df.info(show_counts=True))"
   ]
  },
  {
   "cell_type": "code",
   "execution_count": 7,
   "id": "626f6fa3-c0f2-4c9d-952a-2ae5b9c6ebfd",
   "metadata": {},
   "outputs": [],
   "source": [
    "pd.DataFrame.to_csv(df, index=False,path_or_buf=output,mode='w')"
   ]
  }
 ],
 "metadata": {
  "kernelspec": {
   "display_name": "Python 3",
   "language": "python",
   "name": "python3"
  },
  "language_info": {
   "codemirror_mode": {
    "name": "ipython",
    "version": 3
   },
   "file_extension": ".py",
   "mimetype": "text/x-python",
   "name": "python",
   "nbconvert_exporter": "python",
   "pygments_lexer": "ipython3",
   "version": "3.9.5"
  }
 },
 "nbformat": 4,
 "nbformat_minor": 5
}
